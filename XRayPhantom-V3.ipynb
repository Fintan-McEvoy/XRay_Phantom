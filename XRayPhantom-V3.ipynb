{
 "cells": [
  {
   "cell_type": "markdown",
   "metadata": {},
   "source": [
    "X-Ray interaction with matter phantom\n",
    "Xray spectra at different energies generated using python module xpecgen ; it is set for a Tungston target, 22 mm added filtration 100 cm air gap.\n",
    "Detail of xpecgen are available at https://github.com/Dih5/xpecgen\n"
   ]
  },
  {
   "cell_type": "code",
   "execution_count": 1,
   "metadata": {},
   "outputs": [],
   "source": [
    "import time\n",
    "import pandas as pd\n",
    "import random\n",
    "import numpy as np\n",
    "import matplotlib.pyplot as plt\n",
    "from PIL import Image\n",
    "from matplotlib import cm\n",
    "from IPython.display import clear_output"
   ]
  },
  {
   "cell_type": "code",
   "execution_count": 2,
   "metadata": {},
   "outputs": [],
   "source": [
    "def read_data():\n",
    "    global mu_liver\n",
    "    mu_liver = pd.read_csv(\"mu_values_tissues/mu_liver_complete.csv\", header=0)\n",
    "    global mu_fat\n",
    "    mu_fat = pd.read_csv(\"mu_values_tissues/mu_fat_complete.csv\", header=0)\n",
    "    global mu_air\n",
    "    mu_air = pd.read_csv(\"mu_values_tissues/mu_air_complete.csv\", header=0)\n",
    "    global KV_quant_factor\n",
    "    KV_quant_factor = pd.read_csv(\"KV_mAs_5_PercentRule/data_KV_mAs.csv\", header = 0)\n",
    "    "
   ]
  },
  {
   "cell_type": "code",
   "execution_count": 3,
   "metadata": {},
   "outputs": [],
   "source": [
    "read_data()"
   ]
  },
  {
   "cell_type": "code",
   "execution_count": 4,
   "metadata": {},
   "outputs": [],
   "source": [
    "def spectra(x):\n",
    "    keV=x\n",
    "    with open('spectra/'+str(keV)+\"_spectrum.csv\") as f, open('destination.csv', 'w') as fw: \n",
    "        writer(fw, delimiter=',').writerows(zip(*reader(f, delimiter=',')))\n",
    "    global spectral_data\n",
    "    spectral_data = pd.read_csv(\"destination.csv\", header=None)\n",
    "    #return (spectral_data)\n",
    "\n",
    "    "
   ]
  },
  {
   "cell_type": "code",
   "execution_count": 5,
   "metadata": {},
   "outputs": [],
   "source": [
    "def spectra(x):\n",
    "    keV=x\n",
    "    global spectral_data\n",
    "    spectral_data = pd.read_csv('spectra/'+str(keV)+\"_spectrum.csv\", header=None)\n",
    "    spectral_data = spectral_data.T\n",
    "    #return (spectral_data)"
   ]
  },
  {
   "cell_type": "code",
   "execution_count": 6,
   "metadata": {},
   "outputs": [],
   "source": [
    "#spectra(40)\n",
    "#spectral_data\n"
   ]
  },
  {
   "cell_type": "code",
   "execution_count": 7,
   "metadata": {},
   "outputs": [],
   "source": [
    "#spectral_data"
   ]
  },
  {
   "cell_type": "markdown",
   "metadata": {},
   "source": [
    "Sample the spectrum. Choose KeV values at random between min and max photon energies (column one) and choose random values for intensity min to max\n"
   ]
  },
  {
   "cell_type": "code",
   "execution_count": 8,
   "metadata": {},
   "outputs": [],
   "source": [
    "def spectral_limits():\n",
    "    global maxInt\n",
    "    maxInt=max(spectral_data[1])\n",
    "    maxInt\n",
    "    global maxKeV\n",
    "    maxKeV=max(spectral_data[0])\n",
    "    maxKeV\n",
    "    "
   ]
  },
  {
   "cell_type": "code",
   "execution_count": 9,
   "metadata": {},
   "outputs": [],
   "source": [
    "#spectral_limits()"
   ]
  },
  {
   "cell_type": "code",
   "execution_count": 10,
   "metadata": {},
   "outputs": [],
   "source": [
    "#Here is the Monte Carlo sampling\".\n",
    "\n",
    "def monte_carlo_sample(mAs, maxKev):\n",
    "    factor=(spectral_data.shape[0]-1)/maxKeV\n",
    "    global mc_spectrum\n",
    "    mc_spectrum = pd.DataFrame([])\n",
    "    i=0\n",
    "    while i < 10*mAs:\n",
    "        randX= np.random.uniform(low=0.0,high=maxKeV,size=1)\n",
    "        randY= np.random.uniform(low=0.0,high=maxInt,size=1)\n",
    "        if float(randY)<spectral_data[1][round(factor*float(randX))] and float(randY)>0:\n",
    "            i=i+1\n",
    "            temp=pd.DataFrame([round(float(randX))])\n",
    "            mc_spectrum=pd.concat([mc_spectrum,temp])\n",
    "    mc_spectrum = mc_spectrum.rename(columns={0 :'keV'})\n",
    "    return(mc_spectrum)\n"
   ]
  },
  {
   "cell_type": "code",
   "execution_count": 11,
   "metadata": {},
   "outputs": [],
   "source": [
    "def get_spectra_dependent_mu():\n",
    "    global spect_dependent_mu\n",
    "    spect_dependent_mu=pd.merge(mc_spectrum,mu_fat,on='keV',how='left')\n"
   ]
  },
  {
   "cell_type": "code",
   "execution_count": 26,
   "metadata": {},
   "outputs": [],
   "source": [
    "def create_images(mAs,maxKeV):\n",
    "    mAs_factor = KV_quant_factor.loc[KV_quant_factor['KV']== maxKeV]['mAs']\n",
    "    mAs = mAs * mAs_factor.item()\n",
    "    print(mAs_factor.item())\n",
    "    global total_nr_photons\n",
    "    total_nr_photons = 10*100*mAs# factor 10 is in the montecarlo script so evene mAs 1 has 10 photons, 100 is 10X10 pixles\n",
    "    \n",
    "    global image_fat\n",
    "    image_fat = np.zeros((10,10))\n",
    "    for  i in range (0,10,1):\n",
    "        print(\"working on pixel row \" + str(i+1)  +\" out of 10 for image 1 of 3     \", end='\\r')\n",
    "        for j in range (0,10,1):\n",
    "            monte_carlo_sample(mAs, maxKeV)\n",
    "            spect_dependent_mu=pd.merge(mc_spectrum,mu_fat,on='keV',how='left')\n",
    "            image_fat[i,j]= np.power(10,(-1*spect_dependent_mu['mu'].mean()))\n",
    "        #time.sleep(1)\n",
    "    print(\"\",end='\\n')\n",
    "    #image_fat\n",
    "\n",
    "    global image_liver\n",
    "    image_liver = np.zeros((10,10))\n",
    "    for  i in range (0,10,1):\n",
    "        for j in range (0,10,1):\n",
    "            monte_carlo_sample(mAs, maxKeV)\n",
    "            spect_dependent_mu=pd.merge(mc_spectrum,mu_liver,on='keV',how='left')\n",
    "            image_liver[i,j]= np.power(10,(-1*spect_dependent_mu['mu'].mean()))\n",
    "            print(\"working on pixel row \" + str(i+1)  +\" out of 10 for image 2 of 3     \", end='\\r')\n",
    "        #time.sleep(1)\n",
    "    print(\"\",end='\\n')\n",
    "    #image_liver\n",
    "\n",
    "    global image_air\n",
    "    image_air = np.zeros((10,10))\n",
    "    for  i in range (0,10,1):\n",
    "        for j in range (0,10,1):\n",
    "            monte_carlo_sample(mAs, maxKeV)\n",
    "            spect_dependent_mu=pd.merge(mc_spectrum,mu_air,on='keV',how='left')\n",
    "            image_air[i,j]= np.power(10,(-1*spect_dependent_mu['mu'].mean()))\n",
    "            print(\"working on pixel row \" + str(i+1)  +\" out of 10 for image 3 of 3     \", end='\\r')\n",
    "    print(\"\",end='\\n')\n",
    "    print(\"\",end='\\n')\n",
    "    #time.sleep(1)\n",
    "    clear_output()    "
   ]
  },
  {
   "cell_type": "code",
   "execution_count": 13,
   "metadata": {},
   "outputs": [
    {
     "data": {
      "text/plain": [
       "2.1202964411326084"
      ]
     },
     "execution_count": 13,
     "metadata": {},
     "output_type": "execute_result"
    }
   ],
   "source": [
    "#df.loc[df['column_name'] == some_value]\n",
    "#test=KV_quant_factor.loc[KV_quant_factor['KV']==41]['mAs']\n",
    "#test[0]\n",
    "KV_quant_factor\n",
    "#df.loc[df['col1'] == value]\n",
    "test=KV_quant_factor.loc[KV_quant_factor['KV'] == 46]['mAs']\n",
    "test.item()"
   ]
  },
  {
   "cell_type": "code",
   "execution_count": 14,
   "metadata": {},
   "outputs": [],
   "source": [
    "#fig = plt.figure\n",
    "#plt.imshow(image_air, cmap='gray')\n",
    "#plt.show()"
   ]
  },
  {
   "cell_type": "code",
   "execution_count": 15,
   "metadata": {},
   "outputs": [],
   "source": [
    "def display_images():\n",
    "    fig = plt.figure()\n",
    "    ax1 = fig.add_subplot(1,3,1)\n",
    "    ax1.imshow(image_liver, cmap='gray_r',vmin=0,vmax=1)\n",
    "    ax2 = fig.add_subplot(1,3,2)\n",
    "    ax2.imshow(image_fat, cmap='gray_r',vmin=0,vmax=1)\n",
    "    ax3 = fig.add_subplot(1,3,3)\n",
    "    ax3.axes.set_xlabel(\"Air\")\n",
    "    ax3.imshow(image_air, cmap='gray_r',vmin=0,vmax=1)\n",
    "\n",
    "    ax1.axes.get_xaxis().set_visible(False)\n",
    "    ax1.axes.get_yaxis().set_visible(False)\n",
    "    ax1.axes.set_title('Liver')\n",
    "\n",
    "    ax2.axes.get_xaxis().set_visible(False)\n",
    "    ax2.axes.get_yaxis().set_visible(False)\n",
    "    ax2.axes.set_title('Fat')\n",
    "\n",
    "    ax3.axes.get_xaxis().set_visible(False)\n",
    "    ax3.axes.get_yaxis().set_visible(False)\n",
    "    ax3.axes.set_title('Air')\n",
    "\n",
    "    liver_mean = image_liver.mean()\n",
    "    liver_std = image_liver.std()\n",
    "    liver_snr = 10*np.log10(liver_mean/liver_std) # in db\n",
    "    fat_mean = image_fat.mean()\n",
    "    fat_std = image_fat.std()\n",
    "    fat_snr = 10*np.log10(fat_mean/fat_std) # in db\n",
    "    air_mean = image_air.mean()\n",
    "    air_std = image_air.std()\n",
    "    air_snr = 10*np.log10(air_mean/air_std) # in db\n",
    "\n",
    "\n",
    "    print(\"Liver; Mean pixel value,\",liver_mean)\n",
    "    print(\"Liver; SNR, \", liver_snr, \"db\")\n",
    "    print(\"Total number of photons reaching detector \", str(int(total_nr_photons*liver_mean)), end='\\n\\n')\n",
    "    print(\"Fat; Mean pixel value,\",fat_mean)\n",
    "    print(\"Fat; SNR, \", fat_snr, \"db\")\n",
    "    print(\"Total number of photons reaching detector \", str(int(total_nr_photons*fat_mean)), end='\\n\\n')\n",
    "    print(\"Air; Mean pixel value,\",air_mean)\n",
    "    print(\"Air; SNR, \", air_snr, \"db\")\n",
    "    print(\"Total number of photons reaching detector \", str(int(total_nr_photons*air_mean)), end='\\n\\n')\n",
    "    \n",
    "    contrast = np.log10(fat_mean/liver_mean)\n",
    "    print (\"Fat to liver contrast,\", contrast)\n",
    "\n",
    "\n"
   ]
  },
  {
   "cell_type": "code",
   "execution_count": 16,
   "metadata": {},
   "outputs": [],
   "source": [
    "def phantom(mAs, KVp):\n",
    "    if mAs <1:\n",
    "        raise ValueError(\"mAs should be an integer between 1 and 10 inclusive\")\n",
    "    #if mAs >10:\n",
    "    #    raise ValueError(\"mAs should be an integer between 1 and 10 inclusive\")\n",
    "    if KVp < 40:\n",
    "        raise ValueError(\"KVp should be an integer between 40 and 120 inclusive\")\n",
    "    if KVp > 120:\n",
    "        raise ValueError(\"KVp should be an integer between 40 and 120 inclusive\")\n",
    "    #mAs=100\n",
    "    maxKeV=KVp\n",
    "    #mAs=100\n",
    "    #load_packages()\n",
    "    read_data()\n",
    "    spectra(KVp)\n",
    "    spectral_limits()\n",
    "    create_images(mAs,KVp)\n",
    "    display_images()\n",
    "    "
   ]
  },
  {
   "cell_type": "code",
   "execution_count": 23,
   "metadata": {},
   "outputs": [
    {
     "name": "stdout",
     "output_type": "stream",
     "text": [
      "Liver; Mean pixel value, 0.20775647641376696\n",
      "Liver; SNR,  4.099964643643151 db\n",
      "Total number of photons reaching detector  207\n",
      "\n",
      "Fat; Mean pixel value, 0.36390065929960025\n",
      "Fat; SNR,  6.955410854712363 db\n",
      "Total number of photons reaching detector  363\n",
      "\n",
      "Air; Mean pixel value, 0.9982228401518298\n",
      "Air; SNR,  32.96830173701566 db\n",
      "Total number of photons reaching detector  998\n",
      "\n",
      "Fat to liver contrast, 0.2434282714498375\n"
     ]
    },
    {
     "data": {
      "image/png": "[encoded data removed]",
      "text/plain": [
       "<Figure size 432x288 with 3 Axes>"
      ]
     },
     "metadata": {},
     "output_type": "display_data"
    }
   ],
   "source": [
    "phantom(1,40)"
   ]
  },
  {
   "cell_type": "code",
   "execution_count": 24,
   "metadata": {},
   "outputs": [
    {
     "name": "stdout",
     "output_type": "stream",
     "text": [
      "Liver; Mean pixel value, 0.19963195704890802\n",
      "Liver; SNR,  6.891917837782846 db\n",
      "Total number of photons reaching detector  798\n",
      "\n",
      "Fat; Mean pixel value, 0.379269131750245\n",
      "Fat; SNR,  10.622001403385607 db\n",
      "Total number of photons reaching detector  1517\n",
      "\n",
      "Air; Mean pixel value, 0.9982200216772138\n",
      "Air; SNR,  36.69958038493477 db\n",
      "Total number of photons reaching detector  3992\n",
      "\n",
      "Fat to liver contrast, 0.27871743314409464\n"
     ]
    },
    {
     "data": {
      "image/png": "[encoded data removed]",
      "text/plain": [
       "<Figure size 432x288 with 3 Axes>"
      ]
     },
     "metadata": {},
     "output_type": "display_data"
    }
   ],
   "source": [
    "phantom(4,40)"
   ]
  },
  {
   "cell_type": "code",
   "execution_count": null,
   "metadata": {
    "scrolled": true
   },
   "outputs": [],
   "source": [
    "phantom(1,40)"
   ]
  },
  {
   "cell_type": "code",
   "execution_count": 25,
   "metadata": {},
   "outputs": [
    {
     "name": "stdout",
     "output_type": "stream",
     "text": [
      "Liver; Mean pixel value, 0.2793881729308365\n",
      "Liver; SNR,  7.582955464773136 db\n",
      "Total number of photons reaching detector  927\n",
      "\n",
      "Fat; Mean pixel value, 0.43078530854449604\n",
      "Fat; SNR,  11.264078701458118 db\n",
      "Total number of photons reaching detector  1430\n",
      "\n",
      "Air; Mean pixel value, 0.9985195063966539\n",
      "Air; SNR,  36.279587270774556 db\n",
      "Total number of photons reaching detector  3314\n",
      "\n",
      "Fat to liver contrast, 0.18805286614728448\n"
     ]
    },
    {
     "data": {
      "image/png": "[encoded data removed]",
      "text/plain": [
       "<Figure size 432x288 with 3 Axes>"
      ]
     },
     "metadata": {},
     "output_type": "display_data"
    }
   ],
   "source": [
    "phantom(1,50)"
   ]
  },
  {
   "cell_type": "code",
   "execution_count": null,
   "metadata": {},
   "outputs": [],
   "source": []
  },
  {
   "cell_type": "code",
   "execution_count": null,
   "metadata": {},
   "outputs": [],
   "source": []
  }
 ],
 "metadata": {
  "kernelspec": {
   "display_name": "Python 3",
   "language": "python",
   "name": "python3"
  },
  "language_info": {
   "codemirror_mode": {
    "name": "ipython",
    "version": 3
   },
   "file_extension": ".py",
   "mimetype": "text/x-python",
   "name": "python",
   "nbconvert_exporter": "python",
   "pygments_lexer": "ipython3",
   "version": "3.6.10"
  }
 },
 "nbformat": 4,
 "nbformat_minor": 2
}
