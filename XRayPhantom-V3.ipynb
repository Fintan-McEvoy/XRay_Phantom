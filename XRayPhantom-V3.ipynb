{
 "cells": [
  {
   "cell_type": "markdown",
   "metadata": {},
   "source": [
    "X-Ray interaction with matter phantom\n",
    "Xray spectra at different energies generated using python module xpecgen ; it is set for a Tungston target, 22 mm added filtration 100 cm air gap.\n",
    "Detail of xpecgen are available at https://github.com/Dih5/xpecgen\n"
   ]
  },
  {
   "cell_type": "code",
   "execution_count": 1,
   "metadata": {},
   "outputs": [],
   "source": [
    "import time\n",
    "#import csv\n",
    "from csv import reader, writer\n",
    "import pandas as pd\n",
    "import random\n",
    "import numpy as np\n",
    "import matplotlib.pyplot as plt\n",
    "from PIL import Image\n",
    "from matplotlib import cm\n",
    "from IPython.display import clear_output"
   ]
  },
  {
   "cell_type": "code",
   "execution_count": 2,
   "metadata": {},
   "outputs": [],
   "source": [
    "def read_data():\n",
    "    global mu_liver\n",
    "    mu_liver = pd.read_csv(\"mu_values_tissues/mu_liver_complete.csv\", header=0)\n",
    "    global mu_fat\n",
    "    mu_fat = pd.read_csv(\"mu_values_tissues/mu_fat_complete.csv\", header=0)\n",
    "    global mu_air\n",
    "    mu_air = pd.read_csv(\"mu_values_tissues/mu_air_complete.csv\", header=0)\n",
    "    global KV_quant_factor\n",
    "    KV_quant_factor = pd.read_csv(\"KV_mAs_5_PercentRule/data_KV_mAs.csv\", header = 0)\n",
    "    "
   ]
  },
  {
   "cell_type": "code",
   "execution_count": 3,
   "metadata": {},
   "outputs": [],
   "source": [
    "read_data()"
   ]
  },
  {
   "cell_type": "code",
   "execution_count": 4,
   "metadata": {},
   "outputs": [],
   "source": [
    "def spectra(x):\n",
    "    keV=x\n",
    "    with open('spectra/'+str(keV)+\"_spectrum.csv\") as f, open('destination.csv', 'w') as fw: \n",
    "        writer(fw, delimiter=',').writerows(zip(*reader(f, delimiter=',')))\n",
    "    global spectral_data\n",
    "    spectral_data = pd.read_csv(\"destination.csv\", header=None)\n",
    "    #return (spectral_data)\n",
    "\n",
    "    "
   ]
  },
  {
   "cell_type": "markdown",
   "metadata": {},
   "source": [
    "Sample the spectrum. Choose KeV values at random between min and max photon energies (column one) and choose random values for intensity min to max\n"
   ]
  },
  {
   "cell_type": "code",
   "execution_count": 5,
   "metadata": {},
   "outputs": [],
   "source": [
    "def spectral_limits():\n",
    "    global maxInt\n",
    "    maxInt=max(spectral_data[1])\n",
    "    maxInt\n",
    "    global maxKeV\n",
    "    maxKeV=max(spectral_data[0])\n",
    "    maxKeV\n",
    "    "
   ]
  },
  {
   "cell_type": "code",
   "execution_count": 6,
   "metadata": {},
   "outputs": [],
   "source": [
    "#Here is the Monte Carlo sampling\".\n",
    "\n",
    "def monte_carlo_sample(mAs, maxKev):\n",
    "    factor=(spectral_data.shape[0]-1)/maxKeV\n",
    "    global mc_spectrum\n",
    "    mc_spectrum = pd.DataFrame([])\n",
    "    i=0\n",
    "    while i < 10*mAs:\n",
    "        randX= np.random.uniform(low=0.0,high=maxKeV,size=1)\n",
    "        randY= np.random.uniform(low=0.0,high=maxInt,size=1)\n",
    "        if float(randY)<spectral_data[1][round(factor*float(randX))] and float(randY)>0:\n",
    "            i=i+1\n",
    "            temp=pd.DataFrame([round(float(randX))])\n",
    "            mc_spectrum=pd.concat([mc_spectrum,temp])\n",
    "    mc_spectrum = mc_spectrum.rename(columns={0 :'keV'})\n",
    "    return(mc_spectrum)\n"
   ]
  },
  {
   "cell_type": "code",
   "execution_count": 7,
   "metadata": {},
   "outputs": [],
   "source": [
    "def get_spectra_dependent_mu():\n",
    "    global spect_dependent_mu\n",
    "    spect_dependent_mu=pd.merge(mc_spectrum,mu_fat,on='keV',how='left')\n"
   ]
  },
  {
   "cell_type": "code",
   "execution_count": 8,
   "metadata": {},
   "outputs": [],
   "source": [
    "def create_images(mAs,maxKeV):\n",
    "    mAs_factor = KV_quant_factor.loc[KV_quant_factor['KV']== maxKeV]['mAs']\n",
    "    mAs = mAs * mAs_factor.item()\n",
    "    print(mAs_factor.item())\n",
    "    global total_nr_photons\n",
    "    total_nr_photons = 10*100*mAs\n",
    "    \n",
    "    global image_fat\n",
    "    image_fat = np.zeros((10,10))\n",
    "    for  i in range (0,10,1):\n",
    "        for j in range (0,10,1):\n",
    "            monte_carlo_sample(mAs, maxKeV)\n",
    "            spect_dependent_mu=pd.merge(mc_spectrum,mu_fat,on='keV',how='left')\n",
    "            image_fat[i,j]= np.power(10,(-1*spect_dependent_mu['mu'].mean()))\n",
    "        print(\"working on pixel row \" + str(i+1)  +\" out of 10 for image 1 of 3     \", end='\\r')\n",
    "        #time.sleep(1)\n",
    "    print(\"\",end='\\n')\n",
    "    #image_fat\n",
    "\n",
    "    global image_liver\n",
    "    image_liver = np.zeros((10,10))\n",
    "    for  i in range (0,10,1):\n",
    "        for j in range (0,10,1):\n",
    "            monte_carlo_sample(mAs, maxKeV)\n",
    "            spect_dependent_mu=pd.merge(mc_spectrum,mu_liver,on='keV',how='left')\n",
    "            image_liver[i,j]= np.power(10,(-1*spect_dependent_mu['mu'].mean()))\n",
    "        print(\"working on pixel row \" + str(i+1)  +\" out of 10 for image 2 of 3     \", end='\\r')\n",
    "        #time.sleep(1)\n",
    "    print(\"\",end='\\n')\n",
    "    #image_liver\n",
    "\n",
    "    global image_air\n",
    "    image_air = np.zeros((10,10))\n",
    "    for  i in range (0,10,1):\n",
    "        for j in range (0,10,1):\n",
    "            monte_carlo_sample(mAs, maxKeV)\n",
    "            spect_dependent_mu=pd.merge(mc_spectrum,mu_air,on='keV',how='left')\n",
    "            image_air[i,j]= np.power(10,(-1*spect_dependent_mu['mu'].mean()))\n",
    "        print(\"working on pixel row \" + str(i+1)  +\" out of 10 for image 3 of 3     \", end='\\r')\n",
    "    print(\"\",end='\\n')\n",
    "    time.sleep(1)\n",
    "    clear_output()    "
   ]
  },
  {
   "cell_type": "code",
   "execution_count": 9,
   "metadata": {},
   "outputs": [
    {
     "data": {
      "text/plain": [
       "2.1202964411326084"
      ]
     },
     "execution_count": 9,
     "metadata": {},
     "output_type": "execute_result"
    }
   ],
   "source": [
    "#df.loc[df['column_name'] == some_value]\n",
    "#test=KV_quant_factor.loc[KV_quant_factor['KV']==41]['mAs']\n",
    "#test[0]\n",
    "KV_quant_factor\n",
    "#df.loc[df['col1'] == value]\n",
    "test=KV_quant_factor.loc[KV_quant_factor['KV'] == 46]['mAs']\n",
    "test.item()"
   ]
  },
  {
   "cell_type": "code",
   "execution_count": 10,
   "metadata": {},
   "outputs": [],
   "source": [
    "#fig = plt.figure\n",
    "#plt.imshow(image_air, cmap='gray')\n",
    "#plt.show()"
   ]
  },
  {
   "cell_type": "code",
   "execution_count": 11,
   "metadata": {},
   "outputs": [],
   "source": [
    "def display_images():\n",
    "    fig = plt.figure()\n",
    "    ax1 = fig.add_subplot(1,3,1)\n",
    "    ax1.imshow(image_liver, cmap='gray_r',vmin=0,vmax=1)\n",
    "    ax2 = fig.add_subplot(1,3,2)\n",
    "    ax2.imshow(image_fat, cmap='gray_r',vmin=0,vmax=1)\n",
    "    ax3 = fig.add_subplot(1,3,3)\n",
    "    ax3.axes.set_xlabel(\"Air\")\n",
    "    ax3.imshow(image_air, cmap='gray_r',vmin=0,vmax=1)\n",
    "\n",
    "    ax1.axes.get_xaxis().set_visible(False)\n",
    "    ax1.axes.get_yaxis().set_visible(False)\n",
    "    ax1.axes.set_title('Liver')\n",
    "\n",
    "    ax2.axes.get_xaxis().set_visible(False)\n",
    "    ax2.axes.get_yaxis().set_visible(False)\n",
    "    ax2.axes.set_title('Fat')\n",
    "\n",
    "    ax3.axes.get_xaxis().set_visible(False)\n",
    "    ax3.axes.get_yaxis().set_visible(False)\n",
    "    ax3.axes.set_title('Air')\n",
    "\n",
    "    liver_mean = image_liver.mean()\n",
    "    liver_std = image_liver.std()\n",
    "    liver_snr = 10*np.log10(liver_mean/liver_std) # in db\n",
    "    fat_mean = image_fat.mean()\n",
    "    fat_std = image_fat.std()\n",
    "    fat_snr = 10*np.log10(fat_mean/fat_std) # in db\n",
    "    air_mean = image_air.mean()\n",
    "    air_std = image_air.std()\n",
    "    air_snr = 10*np.log10(air_mean/air_std) # in db\n",
    "\n",
    "\n",
    "    print(\"Liver; Mean pixel value,\",liver_mean)\n",
    "    print(\"Liver; SNR, \", liver_snr, \"db\")\n",
    "    print(\"Total number of photons reaching detector \", str(int(total_nr_photons*liver_mean)), end='\\n\\n')\n",
    "    print(\"Fat; Mean pixel value,\",fat_mean)\n",
    "    print(\"Fat; SNR, \", fat_snr, \"db\")\n",
    "    print(\"Total number of photons reaching detector \", str(int(total_nr_photons*fat_mean)), end='\\n\\n')\n",
    "    print(\"Air; Mean pixel value,\",air_mean)\n",
    "    print(\"Air; SNR, \", air_snr, \"db\")\n",
    "    print(\"Total number of photons reaching detector \", str(int(total_nr_photons*air_mean)), end='\\n\\n')\n",
    "    \n",
    "    contrast = np.log10(fat_mean/liver_mean)\n",
    "    print (\"Fat to liver contrast,\", contrast)\n",
    "\n",
    "\n"
   ]
  },
  {
   "cell_type": "code",
   "execution_count": 12,
   "metadata": {},
   "outputs": [],
   "source": [
    "def phantom(mAs, KVp):\n",
    "    if mAs <1:\n",
    "        raise ValueError(\"mAs should be an integer between 1 and 10 inclusive\")\n",
    "    #if mAs >10:\n",
    "    #    raise ValueError(\"mAs should be an integer between 1 and 10 inclusive\")\n",
    "    if KVp < 40:\n",
    "        raise ValueError(\"KVp should be an integer between 40 and 120 inclusive\")\n",
    "    if KVp > 120:\n",
    "        raise ValueError(\"KVp should be an integer between 40 and 120 inclusive\")\n",
    "    #mAs=100\n",
    "    maxKeV=KVp\n",
    "    #mAs=100\n",
    "    #load_packages()\n",
    "    read_data()\n",
    "    spectra(KVp)\n",
    "    spectral_limits()\n",
    "    create_images(mAs,KVp)\n",
    "    display_images()\n",
    "    "
   ]
  },
  {
   "cell_type": "code",
   "execution_count": 13,
   "metadata": {},
   "outputs": [
    {
     "name": "stdout",
     "output_type": "stream",
     "text": [
      "Liver; Mean pixel value, 0.21651724052222207\n",
      "Liver; SNR,  4.41068011064101 db\n",
      "Total number of photons reaching detector  216\n",
      "\n",
      "Fat; Mean pixel value, 0.3860138059912232\n",
      "Fat; SNR,  7.325849332183738 db\n",
      "Total number of photons reaching detector  386\n",
      "\n",
      "Air; Mean pixel value, 0.9982596985042684\n",
      "Air; SNR,  33.25938363800064 db\n",
      "Total number of photons reaching detector  998\n",
      "\n",
      "Fat to liver contrast, 0.2511103542848463\n"
     ]
    },
    {
     "data": {
      "image/png": "[encoded data removed]",
      "text/plain": [
       "<Figure size 432x288 with 3 Axes>"
      ]
     },
     "metadata": {},
     "output_type": "display_data"
    }
   ],
   "source": [
    "phantom(1,40)"
   ]
  },
  {
   "cell_type": "code",
   "execution_count": 14,
   "metadata": {},
   "outputs": [
    {
     "name": "stdout",
     "output_type": "stream",
     "text": [
      "Liver; Mean pixel value, 0.20989833849938105\n",
      "Liver; SNR,  6.902803304872201 db\n",
      "Total number of photons reaching detector  839\n",
      "\n",
      "Fat; Mean pixel value, 0.3755833627246091\n",
      "Fat; SNR,  10.377957450882185 db\n",
      "Total number of photons reaching detector  1502\n",
      "\n",
      "Air; Mean pixel value, 0.9982560883554623\n",
      "Air; SNR,  35.93873937331877 db\n",
      "Total number of photons reaching detector  3993\n",
      "\n",
      "Fat to liver contrast, 0.25269734517515013\n"
     ]
    },
    {
     "data": {
      "image/png": "[encoded data removed]",
      "text/plain": [
       "<Figure size 432x288 with 3 Axes>"
      ]
     },
     "metadata": {},
     "output_type": "display_data"
    }
   ],
   "source": [
    "phantom(4,40)"
   ]
  },
  {
   "cell_type": "code",
   "execution_count": 15,
   "metadata": {
    "scrolled": true
   },
   "outputs": [
    {
     "name": "stdout",
     "output_type": "stream",
     "text": [
      "Liver; Mean pixel value, 0.21280357537123\n",
      "Liver; SNR,  4.450308878775969 db\n",
      "Total number of photons reaching detector  212\n",
      "\n",
      "Fat; Mean pixel value, 0.37907285928377243\n",
      "Fat; SNR,  7.687869178967544 db\n",
      "Total number of photons reaching detector  379\n",
      "\n",
      "Air; Mean pixel value, 0.9982117821694763\n",
      "Air; SNR,  32.92493790387673 db\n",
      "Total number of photons reaching detector  998\n",
      "\n",
      "Fat to liver contrast, 0.2507437707012977\n"
     ]
    },
    {
     "data": {
      "image/png": "[encoded data removed]",
      "text/plain": [
       "<Figure size 432x288 with 3 Axes>"
      ]
     },
     "metadata": {},
     "output_type": "display_data"
    }
   ],
   "source": [
    "phantom(1,40)"
   ]
  },
  {
   "cell_type": "code",
   "execution_count": 16,
   "metadata": {},
   "outputs": [
    {
     "name": "stdout",
     "output_type": "stream",
     "text": [
      "Liver; Mean pixel value, 0.3211304503097337\n",
      "Liver; SNR,  10.160476176974393 db\n",
      "Total number of photons reaching detector  2841\n",
      "\n",
      "Fat; Mean pixel value, 0.47059577672117897\n",
      "Fat; SNR,  12.899539732485364 db\n",
      "Total number of photons reaching detector  4164\n",
      "\n",
      "Air; Mean pixel value, 0.9987321737686697\n",
      "Air; SNR,  39.17262267158009 db\n",
      "Total number of photons reaching detector  8838\n",
      "\n",
      "Fat to liver contrast, 0.1659665370621013\n"
     ]
    },
    {
     "data": {
      "image/png": "[encoded data removed]",
      "text/plain": [
       "<Figure size 432x288 with 3 Axes>"
      ]
     },
     "metadata": {},
     "output_type": "display_data"
    }
   ],
   "source": [
    "phantom(1,60)"
   ]
  },
  {
   "cell_type": "code",
   "execution_count": null,
   "metadata": {},
   "outputs": [],
   "source": []
  }
 ],
 "metadata": {
  "kernelspec": {
   "display_name": "Python 3",
   "language": "python",
   "name": "python3"
  },
  "language_info": {
   "codemirror_mode": {
    "name": "ipython",
    "version": 3
   },
   "file_extension": ".py",
   "mimetype": "text/x-python",
   "name": "python",
   "nbconvert_exporter": "python",
   "pygments_lexer": "ipython3",
   "version": "3.6.10"
  }
 },
 "nbformat": 4,
 "nbformat_minor": 2
}
