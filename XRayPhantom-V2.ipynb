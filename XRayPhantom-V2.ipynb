{
 "cells": [
  {
   "cell_type": "markdown",
   "metadata": {},
   "source": [
    "X-Ray interaction with matter phantom\n",
    "Xray spectra at different energies generated using python module xpecgen ; it is set for a Tungston target, 22 mm added filtration 100 cm air gap.\n",
    "Detail of xpecgen are available at https://github.com/Dih5/xpecgen\n"
   ]
  },
  {
   "cell_type": "code",
   "execution_count": 114,
   "metadata": {},
   "outputs": [
    {
     "data": {
      "application/javascript": [
       "IPython.notebook.execute_cells_below()"
      ],
      "text/plain": [
       "<IPython.core.display.Javascript object>"
      ]
     },
     "metadata": {},
     "output_type": "display_data"
    },
    {
     "data": {
      "application/javascript": [
       "IPython.notebook.execute_cells_below()"
      ],
      "text/plain": [
       "<IPython.core.display.Javascript object>"
      ]
     },
     "metadata": {},
     "output_type": "display_data"
    }
   ],
   "source": [
    "from IPython.display import Javascript\n",
    "display(Javascript('IPython.notebook.execute_cells_below()'))"
   ]
  },
  {
   "cell_type": "code",
   "execution_count": 116,
   "metadata": {},
   "outputs": [],
   "source": [
    "import time\n",
    "import csv\n",
    "from csv import reader, writer\n",
    "import pandas as pd\n",
    "import random\n",
    "import numpy as np\n",
    "import matplotlib.pyplot as plt\n",
    "from PIL import Image\n",
    "from matplotlib import cm\n",
    "from IPython.display import clear_output"
   ]
  },
  {
   "cell_type": "code",
   "execution_count": 18,
   "metadata": {},
   "outputs": [
    {
     "name": "stdout",
     "output_type": "stream",
     "text": [
      "CPython 3.6.10\n",
      "IPython 6.4.0\n",
      "\n",
      "time unknown\n",
      "csv 1.0\n",
      "pandas 0.23.0\n",
      "random unknown\n",
      "numpy 1.14.3\n",
      "matplotlib.pyplot 3.0.2\n",
      "PIL 5.4.1\n",
      "IPython.display 6.4.0\n",
      "watermark 2.0.2\n",
      "\n",
      "compiler   : GCC 7.3.0\n",
      "system     : Linux\n",
      "release    : 3.10.0-1160.49.1.el7.x86_64\n",
      "machine    : x86_64\n",
      "processor  : x86_64\n",
      "CPU cores  : 4\n",
      "interpreter: 64bit\n",
      " \n",
      "last updated: Sat Jan 01 2022 11:42:15 CET\n"
     ]
    }
   ],
   "source": [
    "%reload_ext watermark\n",
    "\n",
    "# python, ipython, packages, and machine characteristics\n",
    "%watermark -v -m -p time,csv,pandas,random,numpy,matplotlib.pyplot,PIL,IPython.display,watermark\n",
    "\n",
    "# date\n",
    "print (\" \")\n",
    "%watermark -u -n -t -z "
   ]
  },
  {
   "cell_type": "code",
   "execution_count": 118,
   "metadata": {},
   "outputs": [],
   "source": [
    "def read_data():\n",
    "    global mu_liver\n",
    "    mu_liver = pd.read_csv(\"mu_values_tissues/mu_liver_complete.csv\", header=0)\n",
    "    global mu_fat\n",
    "    mu_fat = pd.read_csv(\"mu_values_tissues/mu_fat_complete.csv\", header=0)\n",
    "    global mu_air\n",
    "    mu_air = pd.read_csv(\"mu_values_tissues/mu_air_complete.csv\", header=0)\n",
    "    global KV_quant_factor\n",
    "    KV_quant_factor = pd.read_csv(\"KV_mAs_5_PercentRule/data_KV_mAs.csv\", header = 0)\n",
    "    "
   ]
  },
  {
   "cell_type": "code",
   "execution_count": 119,
   "metadata": {},
   "outputs": [],
   "source": [
    "read_data()"
   ]
  },
  {
   "cell_type": "markdown",
   "metadata": {},
   "source": []
  },
  {
   "cell_type": "code",
   "execution_count": 120,
   "metadata": {},
   "outputs": [],
   "source": [
    "def spectra(x):\n",
    "    keV=x\n",
    "    with open('spectra/'+str(keV)+\"_spectrum.csv\") as f, open('destination.csv', 'w') as fw: \n",
    "        writer(fw, delimiter=',').writerows(zip(*reader(f, delimiter=',')))\n",
    "    global spectral_data\n",
    "    spectral_data = pd.read_csv(\"destination.csv\", header=None)\n",
    "    #return (spectral_data)\n",
    "\n",
    "    "
   ]
  },
  {
   "cell_type": "markdown",
   "metadata": {},
   "source": [
    "Sample the spectrum. Choose KeV values at random between min and max photon energies (column one) and choose random values for intensity min to max\n"
   ]
  },
  {
   "cell_type": "code",
   "execution_count": 121,
   "metadata": {},
   "outputs": [],
   "source": [
    "def spectral_limits():\n",
    "    global maxInt\n",
    "    maxInt=max(spectral_data[1])\n",
    "    maxInt\n",
    "    global maxKeV\n",
    "    maxKeV=max(spectral_data[0])\n",
    "    maxKeV\n",
    "    "
   ]
  },
  {
   "cell_type": "code",
   "execution_count": 122,
   "metadata": {},
   "outputs": [],
   "source": [
    "#Here is the Monte Carlo sampling\".\n",
    "\n",
    "def monte_carlo_sample(mAs, maxKev):\n",
    "    factor=(spectral_data.shape[0]-1)/maxKeV\n",
    "    global mc_spectrum\n",
    "    mc_spectrum = pd.DataFrame([])\n",
    "    i=0\n",
    "    while i < 10*mAs:\n",
    "        randX= np.random.uniform(low=0.0,high=maxKeV,size=1)\n",
    "        randY= np.random.uniform(low=0.0,high=maxInt,size=1)\n",
    "        if float(randY)<spectral_data[1][round(factor*float(randX))] and float(randY)>0:\n",
    "            i=i+1\n",
    "            temp=pd.DataFrame([round(float(randX))])\n",
    "            mc_spectrum=pd.concat([mc_spectrum,temp])\n",
    "    mc_spectrum = mc_spectrum.rename(columns={0 :'keV'})\n",
    "    return(mc_spectrum)\n"
   ]
  },
  {
   "cell_type": "code",
   "execution_count": 123,
   "metadata": {},
   "outputs": [],
   "source": [
    "def get_spectra_dependent_mu():\n",
    "    global spect_dependent_mu\n",
    "    spect_dependent_mu=pd.merge(mc_spectrum,mu_fat,on='keV',how='left')\n",
    "\n",
    "get_spectra_dependent_mu() "
   ]
  },
  {
   "cell_type": "code",
   "execution_count": 124,
   "metadata": {},
   "outputs": [],
   "source": [
    "#spectral_data"
   ]
  },
  {
   "cell_type": "code",
   "execution_count": 125,
   "metadata": {},
   "outputs": [
    {
     "data": {
      "text/plain": [
       "0.38776750000000015"
      ]
     },
     "execution_count": 125,
     "metadata": {},
     "output_type": "execute_result"
    }
   ],
   "source": [
    "spect_dependent_mu['mu'].mean()"
   ]
  },
  {
   "cell_type": "code",
   "execution_count": 126,
   "metadata": {},
   "outputs": [],
   "source": [
    "def create_images(mAs,maxKeV):\n",
    "    mAs_factor = KV_quant_factor.loc[KV_quant_factor['KV']== maxKeV]['mAs']\n",
    "    mAs = mAs * mAs_factor.item()\n",
    "    print(mAs_factor.item())\n",
    "    global total_nr_photons\n",
    "    total_nr_photons = 10*100*mAs\n",
    "    \n",
    "    global image_fat\n",
    "    image_fat = np.zeros((10,10))\n",
    "    for  i in range (0,10,1):\n",
    "        for j in range (0,10,1):\n",
    "            monte_carlo_sample(mAs, maxKeV)\n",
    "            spect_dependent_mu=pd.merge(mc_spectrum,mu_fat,on='keV',how='left')\n",
    "            image_fat[i,j]= np.power(10,(-1*spect_dependent_mu['mu'].mean()))\n",
    "        print(\"working on pixel row \" + str(i+1)  +\" out of 10 for image 1 of 3     \", end='\\r')\n",
    "        #time.sleep(1)\n",
    "    print(\"\",end='\\n')\n",
    "    #image_fat\n",
    "\n",
    "    global image_liver\n",
    "    image_liver = np.zeros((10,10))\n",
    "    for  i in range (0,10,1):\n",
    "        for j in range (0,10,1):\n",
    "            monte_carlo_sample(mAs, maxKeV)\n",
    "            spect_dependent_mu=pd.merge(mc_spectrum,mu_liver,on='keV',how='left')\n",
    "            image_liver[i,j]= np.power(10,(-1*spect_dependent_mu['mu'].mean()))\n",
    "        print(\"working on pixel row \" + str(i+1)  +\" out of 10 for image 2 of 3     \", end='\\r')\n",
    "        #time.sleep(1)\n",
    "    print(\"\",end='\\n')\n",
    "    #image_liver\n",
    "\n",
    "    global image_air\n",
    "    image_air = np.zeros((10,10))\n",
    "    for  i in range (0,10,1):\n",
    "        for j in range (0,10,1):\n",
    "            monte_carlo_sample(mAs, maxKeV)\n",
    "            spect_dependent_mu=pd.merge(mc_spectrum,mu_air,on='keV',how='left')\n",
    "            image_air[i,j]= np.power(10,(-1*spect_dependent_mu['mu'].mean()))\n",
    "        print(\"working on pixel row \" + str(i+1)  +\" out of 10 for image 3 of 3     \", end='\\r')\n",
    "    print(\"\",end='\\n')\n",
    "    time.sleep(1)\n",
    "    clear_output()    "
   ]
  },
  {
   "cell_type": "code",
   "execution_count": 127,
   "metadata": {},
   "outputs": [
    {
     "data": {
      "text/plain": [
       "2.1202964411326084"
      ]
     },
     "execution_count": 127,
     "metadata": {},
     "output_type": "execute_result"
    }
   ],
   "source": [
    "#df.loc[df['column_name'] == some_value]\n",
    "#test=KV_quant_factor.loc[KV_quant_factor['KV']==41]['mAs']\n",
    "#test[0]\n",
    "KV_quant_factor\n",
    "#df.loc[df['col1'] == value]\n",
    "test=KV_quant_factor.loc[KV_quant_factor['KV'] == 46]['mAs']\n",
    "test.item()"
   ]
  },
  {
   "cell_type": "code",
   "execution_count": 128,
   "metadata": {},
   "outputs": [
    {
     "data": {
      "image/png": "[encoded data removed]",
      "text/plain": [
       "<Figure size 432x288 with 1 Axes>"
      ]
     },
     "metadata": {},
     "output_type": "display_data"
    }
   ],
   "source": [
    "fig = plt.figure\n",
    "plt.imshow(image_air, cmap='gray')\n",
    "plt.show()"
   ]
  },
  {
   "cell_type": "code",
   "execution_count": 129,
   "metadata": {},
   "outputs": [],
   "source": [
    "def display_images():\n",
    "    fig = plt.figure()\n",
    "    ax1 = fig.add_subplot(1,3,1)\n",
    "    ax1.imshow(image_liver, cmap='gray_r',vmin=0,vmax=1)\n",
    "    ax2 = fig.add_subplot(1,3,2)\n",
    "    ax2.imshow(image_fat, cmap='gray_r',vmin=0,vmax=1)\n",
    "    ax3 = fig.add_subplot(1,3,3)\n",
    "    ax3.axes.set_xlabel(\"Air\")\n",
    "    ax3.imshow(image_air, cmap='gray_r',vmin=0,vmax=1)\n",
    "\n",
    "    ax1.axes.get_xaxis().set_visible(False)\n",
    "    ax1.axes.get_yaxis().set_visible(False)\n",
    "    ax1.axes.set_title('Liver')\n",
    "\n",
    "    ax2.axes.get_xaxis().set_visible(False)\n",
    "    ax2.axes.get_yaxis().set_visible(False)\n",
    "    ax2.axes.set_title('Fat')\n",
    "\n",
    "    ax3.axes.get_xaxis().set_visible(False)\n",
    "    ax3.axes.get_yaxis().set_visible(False)\n",
    "    ax3.axes.set_title('Air')\n",
    "\n",
    "    liver_mean = image_liver.mean()\n",
    "    liver_std = image_liver.std()\n",
    "    liver_snr = 10*np.log10(liver_mean/liver_std) # in db\n",
    "    fat_mean = image_fat.mean()\n",
    "    fat_std = image_fat.std()\n",
    "    fat_snr = 10*np.log10(fat_mean/fat_std) # in db\n",
    "    air_mean = image_air.mean()\n",
    "    air_std = image_air.std()\n",
    "    air_snr = 10*np.log10(air_mean/air_std) # in db\n",
    "\n",
    "\n",
    "    print(\"Liver; Mean pixel value,\",liver_mean)\n",
    "    print(\"Liver; SNR, \", liver_snr, \"db\")\n",
    "    print(\"Total number of photons reaching detector \", str(int(total_nr_photons*liver_mean)), end='\\n\\n')\n",
    "    print(\"Fat; Mean pixel value,\",fat_mean)\n",
    "    print(\"Fat; SNR, \", fat_snr, \"db\")\n",
    "    print(\"Total number of photons reaching detector \", str(int(total_nr_photons*fat_mean)), end='\\n\\n')\n",
    "    print(\"Air; Mean pixel value,\",air_mean)\n",
    "    print(\"Air; SNR, \", air_snr, \"db\")\n",
    "    print(\"Total number of photons reaching detector \", str(int(total_nr_photons*air_mean)), end='\\n\\n')\n",
    "    \n",
    "    contrast = np.log10(fat_mean/liver_mean)\n",
    "    print (\"Fat to liver contrast,\", contrast)\n",
    "\n",
    "\n"
   ]
  },
  {
   "cell_type": "code",
   "execution_count": 130,
   "metadata": {},
   "outputs": [],
   "source": [
    "def phantom(mAs, KVp):\n",
    "    if mAs <1:\n",
    "        raise ValueError(\"mAs should be an integer between 1 and 10 inclusive\")\n",
    "    #if mAs >10:\n",
    "    #    raise ValueError(\"mAs should be an integer between 1 and 10 inclusive\")\n",
    "    if KVp < 40:\n",
    "        raise ValueError(\"KVp should be an integer between 40 and 120 inclusive\")\n",
    "    if KVp > 120:\n",
    "        raise ValueError(\"KVp should be an integer between 40 and 120 inclusive\")\n",
    "    #mAs=100\n",
    "    maxKeV=KVp\n",
    "    #mAs=100\n",
    "    #load_packages()\n",
    "    read_data()\n",
    "    spectra(KVp)\n",
    "    spectral_limits()\n",
    "    create_images(mAs,KVp)\n",
    "    display_images()\n",
    "    "
   ]
  },
  {
   "cell_type": "code",
   "execution_count": 131,
   "metadata": {},
   "outputs": [
    {
     "name": "stdout",
     "output_type": "stream",
     "text": [
      "Liver; Mean pixel value, 0.20962735817457814\n",
      "Liver; SNR,  6.868731059679187 db\n",
      "Total number of photons reaching detector  838\n",
      "\n",
      "Fat; Mean pixel value, 0.37806574003665494\n",
      "Fat; SNR,  10.945916271351624 db\n",
      "Total number of photons reaching detector  1512\n",
      "\n",
      "Air; Mean pixel value, 0.998253067777554\n",
      "Air; SNR,  36.54825639197069 db\n",
      "Total number of photons reaching detector  3993\n",
      "\n",
      "Fat to liver contrast, 0.25611936260773566\n"
     ]
    },
    {
     "data": {
      "image/png": "[encoded data removed]",
      "text/plain": [
       "<Figure size 432x288 with 3 Axes>"
      ]
     },
     "metadata": {},
     "output_type": "display_data"
    }
   ],
   "source": [
    "phantom(4,40)"
   ]
  },
  {
   "cell_type": "code",
   "execution_count": 132,
   "metadata": {},
   "outputs": [
    {
     "name": "stdout",
     "output_type": "stream",
     "text": [
      "Liver; Mean pixel value, 0.20469488995064464\n",
      "Liver; SNR,  8.463148193831376 db\n",
      "Total number of photons reaching detector  1637\n",
      "\n",
      "Fat; Mean pixel value, 0.3776278066469016\n",
      "Fat; SNR,  11.621773950037447 db\n",
      "Total number of photons reaching detector  3021\n",
      "\n",
      "Air; Mean pixel value, 0.9982345939216464\n",
      "Air; SNR,  37.62483995322307 db\n",
      "Total number of photons reaching detector  7985\n",
      "\n",
      "Fat to liver contrast, 0.2659569651319983\n"
     ]
    },
    {
     "data": {
      "image/png": "[encoded data removed]",
      "text/plain": [
       "<Figure size 432x288 with 3 Axes>"
      ]
     },
     "metadata": {},
     "output_type": "display_data"
    }
   ],
   "source": [
    "phantom(8,40)"
   ]
  },
  {
   "cell_type": "code",
   "execution_count": 134,
   "metadata": {
    "scrolled": true
   },
   "outputs": [
    {
     "name": "stdout",
     "output_type": "stream",
     "text": [
      "Liver; Mean pixel value, 0.26627769755882397\n",
      "Liver; SNR,  12.120274241892481 db\n",
      "Total number of photons reaching detector  7072\n",
      "\n",
      "Fat; Mean pixel value, 0.43011897243733577\n",
      "Fat; SNR,  15.120038614816151 db\n",
      "Total number of photons reaching detector  11423\n",
      "\n",
      "Air; Mean pixel value, 0.9985450884210517\n",
      "Air; SNR,  40.8362904218791 db\n",
      "Total number of photons reaching detector  26520\n",
      "\n",
      "Fat to liver contrast, 0.20825380654185993\n"
     ]
    },
    {
     "data": {
      "image/png": "[encoded data removed]",
      "text/plain": [
       "<Figure size 432x288 with 3 Axes>"
      ]
     },
     "metadata": {},
     "output_type": "display_data"
    }
   ],
   "source": [
    "phantom(8,50)"
   ]
  },
  {
   "cell_type": "code",
   "execution_count": 135,
   "metadata": {},
   "outputs": [
    {
     "name": "stdout",
     "output_type": "stream",
     "text": [
      "Liver; Mean pixel value, 0.19921161923846475\n",
      "Liver; SNR,  4.3866526558185654 db\n",
      "Total number of photons reaching detector  199\n",
      "\n",
      "Fat; Mean pixel value, 0.3880954837409118\n",
      "Fat; SNR,  7.56188394574679 db\n",
      "Total number of photons reaching detector  388\n",
      "\n",
      "Air; Mean pixel value, 0.9982347299183744\n",
      "Air; SNR,  34.04053803131663 db\n",
      "Total number of photons reaching detector  998\n",
      "\n",
      "Fat to liver contrast, 0.28962392336016435\n"
     ]
    },
    {
     "data": {
      "image/png": "[encoded data removed]",
      "text/plain": [
       "<Figure size 432x288 with 3 Axes>"
      ]
     },
     "metadata": {},
     "output_type": "display_data"
    }
   ],
   "source": [
    "phantom(1,40)"
   ]
  },
  {
   "cell_type": "code",
   "execution_count": 6,
   "metadata": {},
   "outputs": [],
   "source": [
    "import watermark\n",
    "import wget"
   ]
  }
 ],
 "metadata": {
  "kernelspec": {
   "display_name": "Python 3",
   "language": "python",
   "name": "python3"
  },
  "language_info": {
   "codemirror_mode": {
    "name": "ipython",
    "version": 3
   },
   "file_extension": ".py",
   "mimetype": "text/x-python",
   "name": "python",
   "nbconvert_exporter": "python",
   "pygments_lexer": "ipython3",
   "version": "3.6.10"
  }
 },
 "nbformat": 4,
 "nbformat_minor": 2
}
